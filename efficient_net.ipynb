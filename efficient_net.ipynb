{
 "cells": [
  {
   "cell_type": "code",
   "execution_count": 1,
   "outputs": [],
   "source": [
    "import os\n",
    "\n",
    "from tensorflow.keras.preprocessing import image as image_utils\n",
    "from tensorflow.keras.applications.imagenet_utils import decode_predictions\n",
    "from tensorflow.keras.applications.imagenet_utils import preprocess_input\n",
    "#from tensorflow.keras.applications import VGG16\n",
    "from tensorflow.keras.applications import efficientnet\n",
    "import numpy as np\n",
    "from PIL import Image\n"
   ],
   "metadata": {
    "collapsed": false,
    "pycharm": {
     "name": "#%%\n"
    }
   }
  },
  {
   "cell_type": "code",
   "execution_count": 2,
   "outputs": [],
   "source": [
    "HOME_DIR = os.environ['HOME']\n",
    "DATA_DIR = os.path.join(HOME_DIR, 'Data')\n",
    "image_path = os.path.join(DATA_DIR, 'bear.png')\n",
    "image = image_utils.load_img(image_path, target_size=(224, 224))\n",
    "image = image_utils.img_to_array(image)\n",
    "image = np.expand_dims(image, axis=0)\n",
    "image = preprocess_input(image)\n",
    "\n",
    "\n"
   ],
   "metadata": {
    "collapsed": false,
    "pycharm": {
     "name": "#%%\n"
    }
   }
  },
  {
   "cell_type": "code",
   "execution_count": null,
   "outputs": [],
   "source": [
    "Image.fromarray(image.astype(np.uint8))"
   ],
   "metadata": {
    "collapsed": false,
    "pycharm": {
     "name": "#%%\n"
    }
   }
  },
  {
   "cell_type": "code",
   "execution_count": 3,
   "outputs": [
    {
     "name": "stdout",
     "output_type": "stream",
     "text": [
      "[INFO] loading network...\n",
      "[INFO] classifying image...\n",
      "WARNING:tensorflow:Model was constructed with shape (None, 600, 600, 3) for input Tensor(\"input_1:0\", shape=(None, 600, 600, 3), dtype=float32), but it was called on an input with incompatible shape (None, 224, 224, 3).\n",
      "1. brown_bear: 54.23%\n",
      "2. American_black_bear: 22.75%\n",
      "3. sloth_bear: 0.73%\n",
      "4. hyena: 0.22%\n",
      "5. beaver: 0.21%\n"
     ]
    }
   ],
   "source": [
    "print(\"[INFO] loading network...\")\n",
    "model = efficientnet.EfficientNetB7(weights=\"imagenet\")\n",
    "\n",
    "print(\"[INFO] classifying image...\")\n",
    "preds = model.predict(image)\n",
    "P = decode_predictions(preds)\n",
    "# loop over the predictions and display the rank-5 predictions +\n",
    "# probabilities to our terminal\n",
    "for (i, (imagenetID, label, prob)) in enumerate(P[0]):\n",
    "\tprint(\"{}. {}: {:.2f}%\".format(i + 1, label, prob * 100))"
   ],
   "metadata": {
    "collapsed": false,
    "pycharm": {
     "name": "#%%\n"
    }
   }
  },
  {
   "cell_type": "code",
   "execution_count": null,
   "outputs": [],
   "source": [
    "\n"
   ],
   "metadata": {
    "collapsed": false,
    "pycharm": {
     "name": "#%%\n"
    }
   }
  }
 ],
 "metadata": {
  "kernelspec": {
   "name": "tfx-env",
   "language": "python",
   "display_name": "tfx-env"
  },
  "language_info": {
   "codemirror_mode": {
    "name": "ipython",
    "version": 2
   },
   "file_extension": ".py",
   "mimetype": "text/x-python",
   "name": "python",
   "nbconvert_exporter": "python",
   "pygments_lexer": "ipython2",
   "version": "2.7.6"
  }
 },
 "nbformat": 4,
 "nbformat_minor": 0
}